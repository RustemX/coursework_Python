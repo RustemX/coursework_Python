{
 "cells": [
  {
   "cell_type": "code",
   "execution_count": null,
   "id": "adb2b777",
   "metadata": {},
   "outputs": [],
   "source": [
    "import string \n",
    "def caesar_cipher(text, shift):\n",
    "    \"\"\"\n",
    "    Реализация шифра Цезаря\n",
    "\n",
    "    Args:\n",
    "        text (str): передаваемый текст для шифрования\n",
    "        shift (int): величина сдвига (положительная - шифрование, отрицательная дешифрование)\n",
    "    \"\"\"\n",
    "    wheel = (string.digits + [chr(i) for i in range(1072, 1104)] + [chr(i) for i in range(1040, 1072)] + string.ascii_letters +string.punctuation + ' ' ) #Колесо символов\n",
    "    result = []\n",
    "    wheel_size = len(wheel)\n",
    "    \n",
    "    for char in text:\n",
    "        if char in wheel:\n",
    "            cur_index = wheel.index(char) # Текущий индекс символа в колесе\n",
    "            new_index = (cur_index + shift) % wheel_size #Вычисленный новый индекс с учетом размера колеса\n",
    "            if new_index < 0:\n",
    "                new_index += wheel_size\n",
    "            result.append(wheel[new_index])\n",
    "        else:\n",
    "            result.append(char)\n",
    "    return ''.join(result)\n",
    "\n",
    "def encrypt(text, sid = 70212446):\n",
    "    shift = sid % 11\n",
    "    return caesar_cipher(text, shift)\n",
    "\n",
    "def decrypt(text, sid = 70212446):\n",
    "    shift = sid % 11\n",
    "    return caesar_cipher(text, -shift)\n",
    "\n"
   ]
  }
 ],
 "metadata": {
  "language_info": {
   "name": "python"
  }
 },
 "nbformat": 4,
 "nbformat_minor": 5
}
